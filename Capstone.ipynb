{
 "cells": [
  {
   "cell_type": "code",
   "execution_count": null,
   "metadata": {},
   "outputs": [],
   "source": [
    "import glob\n",
    "from huggingface_hub import list_files_info, hf_hub_download\n",
    "\n",
    "if __name__ == \"__main__\":\n",
    "    # repo_id = 'mistralai/Mixtral-8x7B-Instruct-v0.1'\n",
    "    repo_id = 'bigcode/starcoder-cxo'\n",
    "    generator = list_files_info(\n",
    "        repo_id\n",
    "    )\n",
    "    for i in generator:\n",
    "        hf_hub_download(\n",
    "            repo_id=repo_id,\n",
    "            filename=i.path,\n",
    "            local_dir='StarCoder',\n",
    "            cache_dir='StarCoder',\n",
    "            # resume_download=True\n",
    "        )"
   ]
  }
 ],
 "metadata": {
  "kernelspec": {
   "display_name": "Python 3",
   "language": "python",
   "name": "python3"
  },
  "language_info": {
   "name": "python",
   "version": "3.10.12"
  }
 },
 "nbformat": 4,
 "nbformat_minor": 2
}
